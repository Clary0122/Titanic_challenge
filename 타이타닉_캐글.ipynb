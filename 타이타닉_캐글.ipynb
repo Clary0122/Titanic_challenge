{
  "nbformat": 4,
  "nbformat_minor": 0,
  "metadata": {
    "colab": {
      "name": "타이타닉 캐글.ipynb",
      "provenance": [],
      "collapsed_sections": [],
      "authorship_tag": "ABX9TyPy+m4GNNEwBRnA0UPIm/AN",
      "include_colab_link": true
    },
    "kernelspec": {
      "name": "python3",
      "display_name": "Python 3"
    }
  },
  "cells": [
    {
      "cell_type": "markdown",
      "metadata": {
        "id": "view-in-github",
        "colab_type": "text"
      },
      "source": [
        "<a href=\"https://colab.research.google.com/github/chaeyun0122/Titanic_challenge/blob/main/%ED%83%80%EC%9D%B4%ED%83%80%EB%8B%89_%EC%BA%90%EA%B8%80.ipynb\" target=\"_parent\"><img src=\"https://colab.research.google.com/assets/colab-badge.svg\" alt=\"Open In Colab\"/></a>"
      ]
    },
    {
      "cell_type": "code",
      "metadata": {
        "colab": {
          "base_uri": "https://localhost:8080/"
        },
        "id": "2Cn0ly9tA2rQ",
        "outputId": "764a965b-f4a9-4528-da9e-49ff6be605da"
      },
      "source": [
        "# importing libraries\r\n",
        "import numpy as np\r\n",
        "import pandas as pd\r\n",
        "\r\n",
        "import warnings\r\n",
        "warnings.filterwarnings('ignore')\r\n",
        "\r\n",
        "# Ipython.display는 print문 대신 DataFrame에 대한 html을 인쇄하는 데 사용할 수 있음.\r\n",
        "from IPython.display import display\r\n",
        "pd.options.display.precision = 15\r\n",
        "pd.options.display.max_rows = 10000  # 출력할 최대 행\r\n",
        "pd.options.display.max_columns = 10000\r\n",
        "pd.options.display.max_colwidth = 100\r\n",
        "\r\n",
        "# 시각화\r\n",
        "import matplotlib.pyplot as plt\r\n",
        "import seaborn as sns\r\n",
        "%matplotlib inline\r\n",
        "\r\n",
        "import datetime\r\n",
        "from numba import jit # numba : 모듈 속도를 높이기위한 것 / jit : 이를 위한 컴파일러\r\n",
        "import random\r\n",
        "\r\n",
        "from sklearn.preprocessing import LabelEncoder\r\n",
        "from sklearn.model_selection import StratifiedKFold, train_test_split\r\n",
        "import lightgbm as lgb\r\n",
        "\r\n",
        "# autoreload : IPython 프롬프트에 입력된 코드 실행을 입력하기 전에 모듈을 자동으로 다시 로드한다.\r\n",
        "%load_ext autoreload\r\n",
        "%autoreload 2   # 모든 모듈을 자동으로 다시 로드한다.\r\n",
        "# (0:비활성화, 1:python코드 실행 전 매번 %aimport로 가져온 모든 모듈을 다시로드, 2:%aimport에 의해 제외된 모듈을 빼고 모든 모듈을 다시 로드)"
      ],
      "execution_count": null,
      "outputs": [
        {
          "output_type": "stream",
          "text": [
            "The autoreload extension is already loaded. To reload it, use:\n",
            "  %reload_ext autoreload\n"
          ],
          "name": "stdout"
        }
      ]
    },
    {
      "cell_type": "markdown",
      "metadata": {
        "id": "GSIld8E6ESt_"
      },
      "source": [
        "배깅 : 많은 강력한 학습자를 사용하고 결과를 평균화합니다.  \r\n",
        "부스팅 : 약한 학습자를 사용하지만 오류를 계속 개선합니다.  \r\n",
        "GBM(Gradient Boosting Machine)은 효율성 문제가 있어서 개선하기 위해 xgb를 사용한다.  \r\n",
        "그러나 xgb도 느려서 가벼운 light gbm을 사용한다.  \r\n",
        "light gbm은 더 적은 리소스를 사용하지만 데이터가 너무 작으면 과적합하는 단점이 있다.  \r\n",
        "다른 부스팅 모델은 트리의 레벨을 확장하지만 light gbm은 리프 방식의 트리 성장을 사용한다.  \r\n"
      ]
    },
    {
      "cell_type": "code",
      "metadata": {
        "id": "qieihPdwA-Jn"
      },
      "source": [
        "def seed_everything(seed=0):\r\n",
        "  random.seed(seed)\r\n",
        "  np.random.seed(seed)\r\n",
        "\r\n",
        "seed = 42\r\n",
        "seed_everything(seed)"
      ],
      "execution_count": null,
      "outputs": []
    },
    {
      "cell_type": "code",
      "metadata": {
        "colab": {
          "base_uri": "https://localhost:8080/"
        },
        "id": "nYBR1uW7IFrE",
        "outputId": "a5a3bcc1-7979-456f-8794-1970e8aa3fed"
      },
      "source": [
        "from google.colab import drive\r\n",
        "drive.mount('/content/drive')"
      ],
      "execution_count": null,
      "outputs": [
        {
          "output_type": "stream",
          "text": [
            "Mounted at /content/drive\n"
          ],
          "name": "stdout"
        }
      ]
    },
    {
      "cell_type": "code",
      "metadata": {
        "id": "m936_JSkIxl1"
      },
      "source": [
        "base_path = \"/content/drive/MyDrive/Colab Notebooks/kaggle/data/\""
      ],
      "execution_count": null,
      "outputs": []
    },
    {
      "cell_type": "code",
      "metadata": {
        "colab": {
          "base_uri": "https://localhost:8080/",
          "height": 188
        },
        "id": "3giypi2cJlvE",
        "outputId": "c5e2940d-fb4c-416a-c317-d3af647da0e9"
      },
      "source": [
        "import io\r\n",
        "test = pd.read_csv(io.BytesIO(base_path + 'test.csv'))"
      ],
      "execution_count": null,
      "outputs": [
        {
          "output_type": "error",
          "ename": "TypeError",
          "evalue": "ignored",
          "traceback": [
            "\u001b[0;31m---------------------------------------------------------------------------\u001b[0m",
            "\u001b[0;31mTypeError\u001b[0m                                 Traceback (most recent call last)",
            "\u001b[0;32m<ipython-input-27-71000df29e67>\u001b[0m in \u001b[0;36m<module>\u001b[0;34m()\u001b[0m\n\u001b[1;32m      1\u001b[0m \u001b[0;32mimport\u001b[0m \u001b[0mio\u001b[0m\u001b[0;34m\u001b[0m\u001b[0;34m\u001b[0m\u001b[0m\n\u001b[0;32m----> 2\u001b[0;31m \u001b[0mtest\u001b[0m \u001b[0;34m=\u001b[0m \u001b[0mpd\u001b[0m\u001b[0;34m.\u001b[0m\u001b[0mread_csv\u001b[0m\u001b[0;34m(\u001b[0m\u001b[0mio\u001b[0m\u001b[0;34m.\u001b[0m\u001b[0mBytesIO\u001b[0m\u001b[0;34m(\u001b[0m\u001b[0mbase_path\u001b[0m \u001b[0;34m+\u001b[0m \u001b[0;34m'test.csv'\u001b[0m\u001b[0;34m)\u001b[0m\u001b[0;34m)\u001b[0m\u001b[0;34m\u001b[0m\u001b[0;34m\u001b[0m\u001b[0m\n\u001b[0m",
            "\u001b[0;31mTypeError\u001b[0m: a bytes-like object is required, not 'str'"
          ]
        }
      ]
    },
    {
      "cell_type": "code",
      "metadata": {
        "id": "JmbPN7kPH92y"
      },
      "source": [
        "data"
      ],
      "execution_count": null,
      "outputs": []
    }
  ]
}